{
  "cells": [
    {
      "cell_type": "markdown",
      "metadata": {
        "colab_type": "text",
        "id": "view-in-github"
      },
      "source": [
        "<a href=\"https://colab.research.google.com/github/Sumit0504/102203514_SVM_Parameter_Optimisation/blob/main/SVM-Wine.ipynb\" target=\"_parent\"><img src=\"https://colab.research.google.com/assets/colab-badge.svg\" alt=\"Open In Colab\"/></a>"
      ]
    },
    {
      "cell_type": "code",
      "execution_count": 1,
      "id": "19bf95c0",
      "metadata": {
        "colab": {
          "base_uri": "https://localhost:8080/"
        },
        "id": "19bf95c0",
        "outputId": "69a96f50-5fdd-4115-a0ab-e2dd20582d58"
      },
      "outputs": [
        {
          "name": "stdout",
          "output_type": "stream",
          "text": [
            "Collecting ucimlrepo\n",
            "  Downloading ucimlrepo-0.0.7-py3-none-any.whl.metadata (5.5 kB)\n",
            "Requirement already satisfied: pandas>=1.0.0 in /usr/local/lib/python3.11/dist-packages (from ucimlrepo) (2.2.2)\n",
            "Requirement already satisfied: certifi>=2020.12.5 in /usr/local/lib/python3.11/dist-packages (from ucimlrepo) (2025.1.31)\n",
            "Requirement already satisfied: numpy>=1.23.2 in /usr/local/lib/python3.11/dist-packages (from pandas>=1.0.0->ucimlrepo) (2.0.2)\n",
            "Requirement already satisfied: python-dateutil>=2.8.2 in /usr/local/lib/python3.11/dist-packages (from pandas>=1.0.0->ucimlrepo) (2.8.2)\n",
            "Requirement already satisfied: pytz>=2020.1 in /usr/local/lib/python3.11/dist-packages (from pandas>=1.0.0->ucimlrepo) (2025.2)\n",
            "Requirement already satisfied: tzdata>=2022.7 in /usr/local/lib/python3.11/dist-packages (from pandas>=1.0.0->ucimlrepo) (2025.2)\n",
            "Requirement already satisfied: six>=1.5 in /usr/local/lib/python3.11/dist-packages (from python-dateutil>=2.8.2->pandas>=1.0.0->ucimlrepo) (1.17.0)\n",
            "Downloading ucimlrepo-0.0.7-py3-none-any.whl (8.0 kB)\n",
            "Installing collected packages: ucimlrepo\n",
            "Successfully installed ucimlrepo-0.0.7\n"
          ]
        }
      ],
      "source": [
        "!pip install ucimlrepo"
      ]
    },
    {
      "cell_type": "code",
      "execution_count": 2,
      "id": "F0oYDJajNqp9",
      "metadata": {
        "id": "F0oYDJajNqp9"
      },
      "outputs": [],
      "source": [
        "from ucimlrepo import fetch_ucirepo\n",
        "from sklearn.model_selection import train_test_split\n",
        "wine_data = fetch_ucirepo(id=186)\n",
        "X_all = wine_data.data.features\n",
        "y_all = wine_data.data.targets.squeeze().astype(int)  # convert to int classes"
      ]
    },
    {
      "cell_type": "code",
      "execution_count": 3,
      "id": "9becdcb4",
      "metadata": {
        "id": "9becdcb4"
      },
      "outputs": [],
      "source": [
        "from sklearn.svm import SVC\n",
        "import numpy as np\n",
        "import matplotlib.pyplot as plt\n"
      ]
    },
    {
      "cell_type": "code",
      "execution_count": 4,
      "id": "06eaa81f",
      "metadata": {
        "id": "06eaa81f"
      },
      "outputs": [],
      "source": [
        "kernelList = ['linear', 'poly', 'rbf', 'sigmoid']\n",
        "overall_results = []\n",
        "best_overall_accuracy = 0\n",
        "best_sample_log = None"
      ]
    },
    {
      "cell_type": "code",
      "execution_count": 5,
      "id": "fb46f992",
      "metadata": {
        "id": "fb46f992"
      },
      "outputs": [],
      "source": [
        "from sklearn.ensemble import RandomForestClassifier\n",
        "from sklearn.metrics import accuracy_score\n",
        "import random as r\n",
        "import pandas as pd\n",
        "\n",
        "# Prepare a list to store the results for each sample\n",
        "overall_results = []\n",
        "\n",
        "# Initialize variables for tracking the best overall accuracy and corresponding parameters\n",
        "best_overall_accuracy = 0\n",
        "best_sample_log = None\n",
        "\n",
        "kernelList = ['gini', 'entropy']  # Not used for RandomForest, but included for reference\n",
        "\n",
        "for sample_no in range(10):\n",
        "    # Split the dataset into training and testing sets\n",
        "    X_train_full, X_test, y_train_full, y_test = train_test_split(\n",
        "        X_all, y_all, test_size=0.3, random_state=sample_no)\n",
        "\n",
        "    # Select only 50 rows for training\n",
        "    X_train = X_train_full.sample(n=50, random_state=sample_no)\n",
        "    y_train = y_train_full.loc[X_train.index]\n",
        "\n",
        "    # Reset index if needed\n",
        "    X_train = X_train.reset_index(drop=True)\n",
        "    y_train = y_train.reset_index(drop=True)\n",
        "\n",
        "    # Initialize best accuracy and corresponding parameters\n",
        "    bestAccuracy = 0\n",
        "    bestNEstimators = 0\n",
        "    bestMaxDepth = 0\n",
        "    bestMinSamplesSplit = 0\n",
        "    iteration_log = []\n",
        "\n",
        "    # Optimization loop for 100 iterations\n",
        "    for i in range(100):\n",
        "        # Randomly choose hyperparameters for the RandomForest model\n",
        "        n_estimators = r.randint(50, 200)  # Random number of trees in forest\n",
        "        max_depth = r.randint(1, 20)  # Random max depth of each tree\n",
        "        min_samples_split = r.randint(2, 20)  # Random minimum samples for splitting a node\n",
        "\n",
        "        try:\n",
        "            # Initialize the model with the chosen parameters\n",
        "            model = RandomForestClassifier(n_estimators=n_estimators, max_depth=max_depth, min_samples_split=min_samples_split, random_state=sample_no)\n",
        "            model.fit(X_train, y_train)\n",
        "            preds = model.predict(X_test)\n",
        "            acc = accuracy_score(y_test, preds) * 100  # Calculate accuracy\n",
        "        except:\n",
        "            acc = 0  # In case of errors, set accuracy to 0\n",
        "\n",
        "        # Update the best accuracy and parameters if current model performs better\n",
        "        if acc > bestAccuracy:\n",
        "            bestAccuracy = acc\n",
        "            bestNEstimators = n_estimators\n",
        "            bestMaxDepth = max_depth\n",
        "            bestMinSamplesSplit = min_samples_split\n",
        "\n",
        "        # Log the progress every 10 iterations\n",
        "        if i % 10 == 0:\n",
        "            iteration_log.append({\n",
        "                'Iteration': i,\n",
        "                'Fitness (bestAccuracy)': round(bestAccuracy, 4),\n",
        "                'bestNEstimators': bestNEstimators,\n",
        "                'bestMaxDepth': bestMaxDepth,\n",
        "                'bestMinSamplesSplit': bestMinSamplesSplit,\n",
        "                'sample_no': sample_no\n",
        "            })\n",
        "\n",
        "    # Store the results for the current sample\n",
        "    overall_results.append({\n",
        "        'Sample': sample_no,\n",
        "        'BestAccuracy': round(bestAccuracy, 4),\n",
        "        'N_Estimators': bestNEstimators,\n",
        "        'MaxDepth': bestMaxDepth,\n",
        "        'MinSamplesSplit': bestMinSamplesSplit\n",
        "    })\n",
        "\n",
        "    # Update the best overall accuracy and sample log if needed\n",
        "    if bestAccuracy > best_overall_accuracy:\n",
        "        best_overall_accuracy = bestAccuracy\n",
        "        best_sample_log = pd.DataFrame(iteration_log)\n",
        "\n",
        "# Display the results in a table\n",
        "results_df = pd.DataFrame(overall_results)\n",
        "results_df.to_csv('optimization_results.csv', index=False)\n",
        "\n"
      ]
    },
    {
      "cell_type": "code",
      "execution_count": 7,
      "id": "08cb6afc",
      "metadata": {
        "colab": {
          "base_uri": "https://localhost:8080/",
          "height": 607
        },
        "id": "08cb6afc",
        "outputId": "3f89dd0e-9022-42a1-f83b-a9c5fc8b44ed"
      },
      "outputs": [
        {
          "data": {
            "image/png": "[encoded data removed]",
            "text/plain": [
              "<Figure size 1200x600 with 1 Axes>"
            ]
          },
          "metadata": {},
          "output_type": "display_data"
        }
      ],
      "source": [
        "plt.figure(figsize=(12, 6))\n",
        "plt.plot(best_sample_log['Iteration'], best_sample_log['Fitness (bestAccuracy)'], marker='o', linestyle='-', color='cyan')\n",
        "plt.title('Convergence Plot of Best Random Forest Model', fontsize=14)\n",
        "plt.xlabel('Iteration')\n",
        "plt.ylabel('Accuracy (%)')\n",
        "plt.grid(True)\n",
        "plt.tight_layout()\n",
        "plt.show()"
      ]
    },
    {
      "cell_type": "code",
      "execution_count": 8,
      "id": "4d1547c8",
      "metadata": {
        "colab": {
          "base_uri": "https://localhost:8080/"
        },
        "id": "4d1547c8",
        "outputId": "41bfc871-71b6-4542-f55d-123a59deadaa"
      },
      "outputs": [
        {
          "name": "stdout",
          "output_type": "stream",
          "text": [
            "Iteration-wise Accuracy:\n",
            "Iteration 0.0 - Accuracy: 50.67%\n",
            "Iteration 10.0 - Accuracy: 51.08%\n",
            "Iteration 20.0 - Accuracy: 51.79%\n",
            "Iteration 30.0 - Accuracy: 51.79%\n",
            "Iteration 40.0 - Accuracy: 51.79%\n",
            "Iteration 50.0 - Accuracy: 51.79%\n",
            "Iteration 60.0 - Accuracy: 51.79%\n",
            "Iteration 70.0 - Accuracy: 51.79%\n",
            "Iteration 80.0 - Accuracy: 51.79%\n",
            "Iteration 90.0 - Accuracy: 51.79%\n"
          ]
        }
      ],
      "source": [
        "# Check if the best sample log is available\n",
        "if best_sample_log is not None:\n",
        "    # Print accuracy for each iteration\n",
        "    print(\"Iteration-wise Accuracy:\")\n",
        "    for index, row in best_sample_log.iterrows():\n",
        "        print(f\"Iteration {row['Iteration']} - Accuracy: {row['Fitness (bestAccuracy)']:.2f}%\")\n",
        "else:\n",
        "    print(\"No best sample log available.\")\n"
      ]
    }
  ],
  "metadata": {
    "accelerator": "GPU",
    "colab": {
      "gpuType": "T4",
      "include_colab_link": true,
      "provenance": []
    },
    "kernelspec": {
      "display_name": ".svm",
      "language": "python",
      "name": "python3"
    },
    "language_info": {
      "codemirror_mode": {
        "name": "ipython",
        "version": 3
      },
      "file_extension": ".py",
      "mimetype": "text/x-python",
      "name": "python",
      "nbconvert_exporter": "python",
      "pygments_lexer": "ipython3",
      "version": "3.11.0"
    }
  },
  "nbformat": 4,
  "nbformat_minor": 5
}
